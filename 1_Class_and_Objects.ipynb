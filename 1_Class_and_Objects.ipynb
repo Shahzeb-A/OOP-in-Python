{
  "nbformat": 4,
  "nbformat_minor": 0,
  "metadata": {
    "colab": {
      "provenance": []
    },
    "kernelspec": {
      "name": "python3",
      "display_name": "Python 3"
    },
    "language_info": {
      "name": "python"
    }
  },
  "cells": [
    {
      "cell_type": "markdown",
      "source": [
        "Imagine you're an architect, and you've created a blueprint for building houses. This blueprint defines the layout, design, and specifications for the houses you're going to build. Now, let's break down the analogy:\n",
        "#-----------------------------------------------------------------------------\n",
        "\n",
        "**Class (Blueprint) (Instance):**\n",
        "In the context of building houses, the class is like the architectural blueprint you've created. It specifies the general structure, layout, and features that all houses built from this blueprint will have. It includes details like the number of rooms, the arrangement of windows, and the type of roofing.\n",
        "#-----------------------------------------------------------------------------\n",
        "\n",
        "**Object (House):**\n",
        "An object is like a physical house that you construct based on the architectural blueprint (class). Each house you build using the same blueprint represents an instance of that blueprint. Each house is unique, even though they all share the same design and features from the blueprint.\n",
        "#-----------------------------------------------------------------------------\n",
        "\n",
        "- **Attributes (House Features):** In the architectural blueprint (class), you might have attributes such as the number of rooms, the color of the walls, and the type of flooring. When you build an actual house (object), these attributes will have specific values that make each house distinct.\n",
        "#-----------------------------------------------------------------------------\n",
        "\n",
        "- **Methods (House Actions):** While houses don't typically have methods like programming objects do, you can think of the actions that can be performed in a house, like turning on lights, opening doors, and using appliances, as analogous to methods in programming objects. For example, a \"turn_on_lights\" method in programming could correspond to flipping a switch in the house.\n",
        "#-----------------------------------------------------------------------------\n",
        "\n",
        "**Creating an Object:**\n",
        "To create an object (house) based on the blueprint (class), you follow the design specified in the blueprint. You might use materials and follow construction processes to bring the blueprint to life. Similarly, in programming, to create an object based on a class, you use the class as a template and create an instance that has specific attribute values.\n",
        "#-----------------------------------------------------------------------------\n",
        "\n",
        "So, in summary, just as a house is a concrete realization of an architectural blueprint, an object is a concrete instance created from a class blueprint in programming. It holds specific attribute values and can perform actions defined by the class's methods. This analogy helps illustrate how classes and objects work in programming using a real-world scenario.\n",
        "#-----------------------------------------------------------------------------\n",
        "\n"
      ],
      "metadata": {
        "id": "YvEYOkOn4X5k"
      }
    },
    {
      "cell_type": "code",
      "source": [
        "# Create a Class\n",
        "\n",
        "class House: # Class\n",
        "  name = \"Shahzeb House\" # Attribute 1\n",
        "  location = \" Taawun\" # Attribute 2\n",
        "  paint = \"White\" # Attribute 3\n",
        "\n",
        "a = House()\n",
        "print(a.name)"
      ],
      "metadata": {
        "colab": {
          "base_uri": "https://localhost:8080/"
        },
        "id": "JpGUsAUP5efp",
        "outputId": "eac0e58b-1616-46a0-9101-d570ace548aa"
      },
      "execution_count": 6,
      "outputs": [
        {
          "output_type": "stream",
          "name": "stdout",
          "text": [
            "Shahzeb House\n"
          ]
        }
      ]
    },
    {
      "cell_type": "code",
      "source": [
        "# Each instance has its own separate set of attributes, even though they were created from the same class blueprint.\n",
        "# This is the essence of object-oriented programming: creating distinct objects (instances) from a shared template (class) that encapsulates data and behavior.\n",
        "# An instance is a specific realization of a class—a unique object created from that class.\n",
        "# \"instance\" and \"object\" are indeed synonymous and used interchangeably. There is no meaningful difference between them in the OOP context\n",
        "\n",
        "b = House() # Creating an Instance\n",
        "b.name = \"Anonymous House\"\n",
        "b.location = \"Pakistan\"\n",
        "b.paint = \"Green\"\n",
        "print(b.name)\n",
        "print(b.location)\n",
        "print(b.paint)"
      ],
      "metadata": {
        "colab": {
          "base_uri": "https://localhost:8080/"
        },
        "id": "LOOtoPDuci8j",
        "outputId": "f5397801-36da-45f2-c58b-c2f8f03a32e8"
      },
      "execution_count": 7,
      "outputs": [
        {
          "output_type": "stream",
          "name": "stdout",
          "text": [
            "Anonymous House\n",
            "Pakistan\n",
            "Green\n"
          ]
        }
      ]
    },
    {
      "cell_type": "markdown",
      "source": [
        "## Constructor\n",
        "\n",
        "## Basics ():\n",
        "\n",
        "In simple terms, a constructor is like a set of instructions that's automatically followed when you create something based on a design. Imagine if you were making paper houses from a template. The constructor would be the steps you take to cut, fold, and glue the paper according to the template. It prepares your house for you to start using it.\n",
        "\n",
        "## More Technical:\n",
        "\n",
        "A constructor in programming is a special method in a class that's automatically called when you create an instance (object) of that class. It's like an initializer that sets up the initial state of the object. In Python, the constructor method is named `__init__`.\n",
        "\n",
        "The `__init__` method helps you define what data your object needs right at the moment of its creation. This method allows you to set up the attributes of the object and do any necessary setup work.\n",
        "\n",
        "## Relating to the House Construction Example:\n",
        "\n",
        "Let's revisit the \"House Construction\" analogy:\n",
        "\n",
        "- **Blueprint (Class)**: Think of the class as a blueprint for constructing houses. It outlines what attributes (features) a house will have.\n",
        "\n",
        "- **Constructor (`__init__`)**: In the construction world, this would be the crew that gets the foundation ready, sets up the walls, installs doors and windows, and makes sure the house is ready to be used. Similarly, the constructor in the class sets up the initial attributes and prepares the object for use.\n",
        "\n",
        "- **Attributes**: These are the features of the house, like the house's name, location, and paint color.\n",
        "\n",
        "- **Creating an Instance (Object)**: When you decide to build a house based on the blueprint, you're creating an instance of the house. The constructor method (`__init__`) is automatically called, and it sets up the initial attributes according to the design (class).\n",
        "\n",
        "In this analogy, think of the constructor as the crew that makes sure the house is properly set up and ready for you to move in. In the programming world, constructors are crucial for ensuring that objects are initialized correctly, which is especially important as your code becomes more complex.\n",
        "\n",
        "So, in the \"House Construction\" example, the constructor (`__init__`) would be the method that sets up the initial attributes of the house when it's first built (when you create an instance of the class).\n"
      ],
      "metadata": {
        "id": "QLgpUL40g-5B"
      }
    },
    {
      "cell_type": "code",
      "source": [
        "# Basically, it gets annoying when you pre-define name, location, and paint of the house in the class House, so wouldn't it be better that whenever we create an object we can\n",
        "# directly pass arguements in it? well , it is possible!\n",
        "class House:\n",
        "  def __init__(self,name,location,paint):\n",
        "    self.name = name\n",
        "    self.location = location\n",
        "    self.paint = paint\n",
        "  def details(self):\n",
        "    print(f\"My house name is {self.name} and my house location is {self.location} and my house paint is {self.paint}\") # Methods(essentially functions that are defined within a class)"
      ],
      "metadata": {
        "id": "HStf3J5CeAg8"
      },
      "execution_count": 8,
      "outputs": []
    },
    {
      "cell_type": "code",
      "source": [
        "a = House(\"Anonymous\", \"Pakistan\", \"Green\")\n",
        "print(a.name)\n",
        "print(a.location)\n",
        "print(a.paint)\n",
        "a.details()"
      ],
      "metadata": {
        "colab": {
          "base_uri": "https://localhost:8080/"
        },
        "id": "nVimtDQBkT02",
        "outputId": "83775cd7-8a05-47fa-95ec-16abad46ee3e"
      },
      "execution_count": 16,
      "outputs": [
        {
          "output_type": "stream",
          "name": "stdout",
          "text": [
            "Anonymous\n",
            "Pakistan\n",
            "Green\n",
            "My house name is Anonymous and my house location is Pakistan and my house paint is Green\n"
          ]
        }
      ]
    },
    {
      "cell_type": "code",
      "source": [
        "b = House()"
      ],
      "metadata": {
        "colab": {
          "base_uri": "https://localhost:8080/",
          "height": 181
        },
        "id": "GNjSitR8lLIx",
        "outputId": "8702c06e-4e42-458e-c131-fe57a8996b3d"
      },
      "execution_count": 11,
      "outputs": [
        {
          "output_type": "error",
          "ename": "TypeError",
          "evalue": "ignored",
          "traceback": [
            "\u001b[0;31m---------------------------------------------------------------------------\u001b[0m",
            "\u001b[0;31mTypeError\u001b[0m                                 Traceback (most recent call last)",
            "\u001b[0;32m<ipython-input-11-18200724d4f9>\u001b[0m in \u001b[0;36m<cell line: 1>\u001b[0;34m()\u001b[0m\n\u001b[0;32m----> 1\u001b[0;31m \u001b[0mb\u001b[0m \u001b[0;34m=\u001b[0m \u001b[0mHouse\u001b[0m\u001b[0;34m(\u001b[0m\u001b[0;34m)\u001b[0m\u001b[0;34m\u001b[0m\u001b[0;34m\u001b[0m\u001b[0m\n\u001b[0m",
            "\u001b[0;31mTypeError\u001b[0m: House.__init__() missing 3 required positional arguments: 'name', 'location', and 'paint'"
          ]
        }
      ]
    },
    {
      "cell_type": "code",
      "source": [
        "# Parameterized Constructor\n",
        "class House:\n",
        "  def __init__(self,name,location,paint):\n",
        "    self.name = name\n",
        "    self.location = location\n",
        "    self.paint = paint\n",
        "  def details(self):\n",
        "    print(f\"My house name is {self.name} and my house location is {self.location} and my house paint is {self.paint}\")"
      ],
      "metadata": {
        "id": "R0WADkFdlYkN"
      },
      "execution_count": 18,
      "outputs": []
    },
    {
      "cell_type": "code",
      "source": [
        "# Defualt Constructor\n",
        "class House:\n",
        "  def __init__(self):\n",
        "    print(\"Hello World\")"
      ],
      "metadata": {
        "id": "rqwOtULFl-dW"
      },
      "execution_count": 17,
      "outputs": []
    }
  ]
}